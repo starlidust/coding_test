{
 "cells": [
  {
   "cell_type": "markdown",
   "metadata": {},
   "source": [
    "# 프로그래머스 코딩테스트\n",
    "출처 : [프로그래머스](https://programmers.co.kr/)\n",
    "1. 해시\n",
    "  1. [완주하지못한선수](#완주하지못한선수)\n",
    "  2. [전화번호 목록](#전화번호목록)\n",
    "  3. [위장](#위장)\n",
    "  4. [베스트앨범(passed)](#베스트앨범)\n",
    "2. 정렬\n",
    "  1. [K번째수](#K번째수)\n",
    "  2. [가장큰수](#가장큰수)\n",
    "  3. [H-index](#H-index)\n",
    "3. 동적계획법(Dynamic Programming)\n",
    "  1. [N으로표현(passed)](#Nd으로표현)\n",
    "4. 완전탐색\n",
    "  1. [모의고사](#모의고사)\n",
    "  2. [소수찾기](#소수찾기)\n",
    "  3. [숫자야구](#숫자야구)\n",
    "  4. [카펫](#카펫)"
   ]
  },
  {
   "cell_type": "markdown",
   "metadata": {},
   "source": [
    "## 완주하지못한선수\n",
    "* 문제 설명  \n",
    "수많은 마라톤 선수들이 마라톤에 참여하였습니다. 단 한 명의 선수를 제외하고는 모든 선수가 마라톤을 완주하였습니다.\n",
    "마라톤에 참여한 선수들의 이름이 담긴 배열 participant와 완주한 선수들의 이름이 담긴 배열 completion이 주어질 때, 완주하지 못한 선수의 이름을 return 하도록 solution 함수를 작성해주세요.\n",
    "\n",
    "* 제한사항  \n",
    "마라톤 경기에 참여한 선수의 수는 1명 이상 100,000명 이하입니다.\n",
    "completion의 길이는 participant의 길이보다 1 작습니다.\n",
    "참가자의 이름은 1개 이상 20개 이하의 알파벳 소문자로 이루어져 있습니다.\n",
    "참가자 중에는 동명이인이 있을 수 있습니다.\n",
    "\n",
    "*출력 예\n",
    "\n",
    "|participant|completion|return|\n",
    "|--|--|--|\n",
    "|[leo, kiki, eden]|\t[eden, kiki]|\tleo|\n",
    "|[marina, josipa, nikola, vinko, filipa]|\t[josipa, filipa, marina, nikola]|\tvinko|\n",
    "|[mislav, stanko, mislav, ana]|\t[stanko, ana, mislav]|\tmislav|"
   ]
  },
  {
   "cell_type": "code",
   "execution_count": 1,
   "metadata": {},
   "outputs": [],
   "source": [
    "participant = [\"mislav\", \"stanko\", \"mislav\", \"ana\"]\n",
    "completion = [\"stanko\", \"ana\", \"mislav\"]"
   ]
  },
  {
   "cell_type": "markdown",
   "metadata": {},
   "source": [
    "### 내꺼\n",
    "* 속도면에서 감점받음"
   ]
  },
  {
   "cell_type": "code",
   "execution_count": 2,
   "metadata": {},
   "outputs": [
    {
     "name": "stdout",
     "output_type": "stream",
     "text": [
      "mislav\n"
     ]
    }
   ],
   "source": [
    "for person in participant:\n",
    "    if person in completion:\n",
    "        indexing = completion.index(person)\n",
    "        del completion[indexing]\n",
    "    else :\n",
    "        print(person)\n",
    "    "
   ]
  },
  {
   "cell_type": "markdown",
   "metadata": {},
   "source": [
    "### 다른사람꺼 \n",
    "* counter를 이용해서 뺄셈연산으로 속도가 빠름"
   ]
  },
  {
   "cell_type": "code",
   "execution_count": 3,
   "metadata": {},
   "outputs": [],
   "source": [
    "import collections\n",
    "\n",
    "def solution(participant, completion):\n",
    "    answer = collections.Counter(participant) - collections.Counter(completion)\n",
    "    return list(answer.keys())[0]"
   ]
  },
  {
   "cell_type": "code",
   "execution_count": 4,
   "metadata": {},
   "outputs": [
    {
     "data": {
      "text/plain": [
       "'mislav'"
      ]
     },
     "execution_count": 4,
     "metadata": {},
     "output_type": "execute_result"
    }
   ],
   "source": [
    "solution(participant, completion)"
   ]
  },
  {
   "cell_type": "code",
   "execution_count": 5,
   "metadata": {},
   "outputs": [],
   "source": [
    "answer = collections.Counter(participant) - collections.Counter(completion)"
   ]
  },
  {
   "cell_type": "code",
   "execution_count": 6,
   "metadata": {
    "scrolled": true
   },
   "outputs": [
    {
     "data": {
      "text/plain": [
       "Counter({'mislav': 2, 'stanko': 1, 'ana': 1})"
      ]
     },
     "execution_count": 6,
     "metadata": {},
     "output_type": "execute_result"
    }
   ],
   "source": [
    "answer"
   ]
  },
  {
   "cell_type": "markdown",
   "metadata": {},
   "source": [
    "# 전화번호목록\n",
    "* 문제설명   \n",
    "전화번호부에 적힌 전화번호 중, 한 번호가 다른 번호의 접두어인 경우가 있는지 확인하려 합니다.  \n",
    "전화번호가 다음과 같을 경우, 구조대 전화번호는 영석이의 전화번호의 접두사입니다.\n",
    "\n",
    " - 구조대 : 119\n",
    " - 박준영 : 97 674 223\n",
    " - 지영석 : 11 9552 4421  \n",
    "전화번호부에 적힌 전화번호를 담은 배열 phone_book 이 solution 함수의 매개변수로 주어질 때, 어떤 번호가 다른 번호의 접두어인 경우가 있으면 false를 그렇지 않으면 true를 return 하도록 solution 함수를 작성해주세요.\n",
    "\n",
    "* 제한 사항  \n",
    "phone_book의 길이는 1 이상 1,000,000 이하입니다.  \n",
    "각 전화번호의 길이는 1 이상 20 이하입니다.\n",
    "\n",
    "* 입출력 예제\n",
    "\n",
    "|phone_book|return|\n",
    "|--|--|\n",
    "|[119, 97674223, 1195524421]|\tfalse|\n",
    "|[123,456,789]|\ttrue|\n",
    "|[12,123,1235,567,88]|\tfalse|"
   ]
  },
  {
   "cell_type": "code",
   "execution_count": 7,
   "metadata": {},
   "outputs": [],
   "source": [
    "phone_book = [119, 97674223, 1195524421]"
   ]
  },
  {
   "cell_type": "markdown",
   "metadata": {},
   "source": [
    "다른사람꺼\n",
    "* 정규표현식사용"
   ]
  },
  {
   "cell_type": "code",
   "execution_count": 8,
   "metadata": {},
   "outputs": [],
   "source": [
    "import re\n",
    "def solution(phone_book):\n",
    "    phone_book = list(map(lambda x : str(x),phone_book))\n",
    "    for b in phone_book:\n",
    "        p = re.compile(\"^\"+b)\n",
    "        for b2 in phone_book:\n",
    "            if b != b2 and p.match(b2):\n",
    "                return False\n",
    "    return True"
   ]
  },
  {
   "cell_type": "code",
   "execution_count": 9,
   "metadata": {},
   "outputs": [
    {
     "name": "stdout",
     "output_type": "stream",
     "text": [
      "False\n"
     ]
    }
   ],
   "source": [
    "phone_book = list(map(lambda x : str(x),phone_book))\n",
    "for b in phone_book:\n",
    "    p = re.compile(\"^\"+b)\n",
    "    for b2 in phone_book:\n",
    "        if b != b2 and p.match(b2):\n",
    "            print(\"False\")"
   ]
  },
  {
   "cell_type": "code",
   "execution_count": 10,
   "metadata": {},
   "outputs": [
    {
     "data": {
      "text/plain": [
       "False"
      ]
     },
     "execution_count": 10,
     "metadata": {},
     "output_type": "execute_result"
    }
   ],
   "source": [
    "solution(phone_book)"
   ]
  },
  {
   "cell_type": "markdown",
   "metadata": {},
   "source": [
    "# 위장\n",
    "* 문제 설명  \n",
    "스파이들은 매일 다른 옷을 조합하여 입어 자신을 위장합니다.\n",
    "\n",
    "예를 들어 스파이가 가진 옷이 아래와 같고 오늘 스파이가 동그란 안경, 긴 코트, 파란색 티셔츠를 입었다면 다음날은 청바지를 추가로 입거나 동그란 안경 대신 검정 선글라스를 착용하거나 해야 합니다.\n",
    "* 제한사항  \n",
    "\n",
    "clothes의 각 행은 [의상의 이름, 의상의 종류]로 이루어져 있습니다.\n",
    "스파이가 가진 의상의 수는 1개 이상 30개 이하입니다.\n",
    "같은 이름을 가진 의상은 존재하지 않습니다.\n",
    "clothes의 모든 원소는 문자열로 이루어져 있습니다.\n",
    "모든 문자열의 길이는 1 이상 20 이하인 자연수이고 알파벳 소문자 또는 '_' 로만 이루어져 있습니다.\n",
    "스파이는 하루에 최소 한 개의 의상은 입습니다.\n",
    " \n",
    "*입출력 예    \n",
    "\n",
    "|clothes|return|\n",
    "|--|--|\n",
    "|[[yellow_hat, headgear], [blue_sunglasses, eyewear], [green_turban, headgear]]|\t5|\n",
    "|[[crow_mask, face], [blue_sunglasses, face], [smoky_makeup, face]]|\t3|"
   ]
  },
  {
   "cell_type": "code",
   "execution_count": 110,
   "metadata": {},
   "outputs": [],
   "source": [
    "clothes = [[\"yellow_hat\", \"headgear\"], [\"blue_sunglasses\", \"eyewear\"], [\"green_turban\", \"headgear\"],[\"smoky_makeup\", \"face\"]]"
   ]
  },
  {
   "cell_type": "code",
   "execution_count": 93,
   "metadata": {},
   "outputs": [],
   "source": [
    "from collections import defaultdict\n",
    "from itertools import product\n",
    "orDict = defaultdict(list) "
   ]
  },
  {
   "cell_type": "code",
   "execution_count": 94,
   "metadata": {},
   "outputs": [],
   "source": [
    "for clothe in clothes:\n",
    "    item = clothe[0]\n",
    "    category = clothe[1]\n",
    "    orDict[category].append(item) "
   ]
  },
  {
   "cell_type": "code",
   "execution_count": 101,
   "metadata": {},
   "outputs": [],
   "source": [
    "answer = 1\n",
    "for cate,item in orDict.items():\n",
    "    answer *= (len(item))+1"
   ]
  },
  {
   "cell_type": "markdown",
   "metadata": {},
   "source": [
    "### 다른사람풀이\n",
    "* 같은 방법으로 진행했는데 마지막이 아쉬웠다"
   ]
  },
  {
   "cell_type": "code",
   "execution_count": 102,
   "metadata": {},
   "outputs": [],
   "source": [
    "from collections import defaultdict\n",
    "\n",
    "def solution(clothes):\n",
    "    answer = 1\n",
    "\n",
    "    clothes_dict = defaultdict(list)\n",
    "    for sample, category in clothes:\n",
    "        clothes_dict[category].append(sample)\n",
    "\n",
    "    for i in clothes_dict.keys():\n",
    "        answer *= len(clothes_dict[i]) + 1\n",
    "\n",
    "    # Remove the case of All None elements\n",
    "    answer -= 1\n",
    "    return answer"
   ]
  },
  {
   "cell_type": "markdown",
   "metadata": {},
   "source": [
    "### 다른사람풀이\n",
    "* reduce함수 사용해서 연산 최대로 나올수 있는 조합에서 마지막하나 제외하는 방법"
   ]
  },
  {
   "cell_type": "code",
   "execution_count": 103,
   "metadata": {},
   "outputs": [],
   "source": [
    "def solution(clothes):\n",
    "    from collections import Counter\n",
    "    from functools import reduce\n",
    "    cnt = Counter([kind for name, kind in clothes])\n",
    "    answer = reduce(lambda x, y: x*(y+1), cnt.values(), 1) - 1\n",
    "    return answer"
   ]
  },
  {
   "cell_type": "code",
   "execution_count": 118,
   "metadata": {},
   "outputs": [],
   "source": [
    "from collections import Counter\n",
    "from functools import reduce # reduce(function, iteration, first_number)\n",
    "\n",
    "cnt = Counter([kind for name, kind in clothes])\n",
    "answer = reduce(lambda x, y: x*(y+1), cnt.values(),1) - 1\n"
   ]
  },
  {
   "cell_type": "code",
   "execution_count": 119,
   "metadata": {},
   "outputs": [
    {
     "data": {
      "text/plain": [
       "11"
      ]
     },
     "execution_count": 119,
     "metadata": {},
     "output_type": "execute_result"
    }
   ],
   "source": [
    "answer"
   ]
  },
  {
   "cell_type": "markdown",
   "metadata": {},
   "source": [
    "# 베스트앨범\n",
    "* 문제 설명  \n",
    "스트리밍 사이트에서 장르 별로 가장 많이 재생된 노래를 두 개씩 모아 베스트 앨범을 출시하려 합니다. 노래는 고유 번호로 구분하며, 노래를 수록하는 기준은 다음과 같습니다.\n",
    "\n",
    "속한 노래가 많이 재생된 장르를 먼저 수록합니다.\n",
    "장르 내에서 많이 재생된 노래를 먼저 수록합니다.\n",
    "장르 내에서 재생 횟수가 같은 노래 중에서는 고유 번호가 낮은 노래를 먼저 수록합니다.\n",
    "노래의 장르를 나타내는 문자열 배열 genres와 노래별 재생 횟수를 나타내는 정수 배열 plays가 주어질 때, 베스트 앨범에 들어갈 노래의 고유 번호를 순서대로 return 하도록 solution 함수를 완성하세요.\n",
    "* 제한사항\n",
    " - genres[i]는 고유번호가 i인 노래의 장르입니다.\n",
    " - plays[i]는 고유번호가 i인 노래가 재생된 횟수입니다.\n",
    " - genres와 plays의 길이는 같으며, 이는 1 이상 10,000 이하입니다.\n",
    " - 장르 종류는 100개 미만입니다.\n",
    " - 장르에 속한 곡이 하나라면, 하나의 곡만 선택합니다.\n",
    " - 모든 장르는 재생된 횟수가 다릅니다.\n",
    "* 입출력 예\n",
    "\n",
    "|genres\t|plays\t|return|\n",
    "|--|--|--|\n",
    "|[classic, pop, classic, classic, pop]|\t[500, 600, 150, 800, 2500]|\t[4, 1, 3, 0]|"
   ]
  },
  {
   "cell_type": "code",
   "execution_count": 123,
   "metadata": {},
   "outputs": [],
   "source": [
    "genres = [\"classic\", \"pop\", \"classic\", \"classic\", \"pop\"]\n",
    "plays = [500, 600, 150, 800, 2500]"
   ]
  },
  {
   "cell_type": "code",
   "execution_count": null,
   "metadata": {},
   "outputs": [],
   "source": [
    "for sample, category in genres, plays:\n",
    "    clothes_dict[category].append(sample)\n"
   ]
  },
  {
   "cell_type": "markdown",
   "metadata": {},
   "source": [
    "# K번째수\n",
    "* 문제 설명  \n",
    "배열 array의 i번째 숫자부터 j번째 숫자까지 자르고 정렬했을 때, k번째에 있는 수를 구하려 합니다.\n",
    "\n",
    "예를 들어 array가 [1, 5, 2, 6, 3, 7, 4], i = 2, j = 5, k = 3이라면\n",
    "\n",
    "array의 2번째부터 5번째까지 자르면 [5, 2, 6, 3]입니다.\n",
    "1에서 나온 배열을 정렬하면 [2, 3, 5, 6]입니다.\n",
    "2에서 나온 배열의 3번째 숫자는 5입니다.\n",
    "배열 array, [i, j, k]를 원소로 가진 2차원 배열 commands가 매개변수로 주어질 때, commands의 모든 원소에 대해 앞서 설명한 연산을 적용했을 때 나온 결과를 배열에 담아 return 하도록 solution 함수를 작성해주세요.\n",
    "\n",
    "* 제한사항  \n",
    " - array의 길이는 1 이상 100 이하입니다.\n",
    " - array의 각 원소는 1 이상 100 이하입니다.\n",
    " - commands의 길이는 1 이상 50 이하입니다.\n",
    " - commands의 각 원소는 길이가 3입니다.\n",
    " \n",
    "* 입출력 예\n",
    "\n",
    "|array\t|commands\t|return|\n",
    "|--|--|--|\n",
    "|[1, 5, 2, 6, 3, 7, 4]|\t[[2, 5, 3], [4, 4, 1], [1, 7, 3]]|[5, 6, 3]|"
   ]
  },
  {
   "cell_type": "code",
   "execution_count": 442,
   "metadata": {
    "ExecuteTime": {
     "end_time": "2020-01-28T05:13:05.945345Z",
     "start_time": "2020-01-28T05:13:05.935345Z"
    }
   },
   "outputs": [],
   "source": [
    "array = [1, 5, 2, 6, 3, 7, 4]\n",
    "commands = [[2, 5, 3], [4, 4, 1], [1, 7, 3]]"
   ]
  },
  {
   "cell_type": "code",
   "execution_count": 443,
   "metadata": {
    "ExecuteTime": {
     "end_time": "2020-01-28T05:13:06.218361Z",
     "start_time": "2020-01-28T05:13:06.207360Z"
    }
   },
   "outputs": [],
   "source": [
    "import numpy as np\n",
    "def solution(array, commands):\n",
    "    answer =[]\n",
    "    for command in commands:    \n",
    "        i = command[0]-1\n",
    "        j = command[1]\n",
    "        k = command[2]-1\n",
    "        answer.append(np.sort(array[i:j])[k])\n",
    "    return answer"
   ]
  },
  {
   "cell_type": "code",
   "execution_count": 444,
   "metadata": {
    "ExecuteTime": {
     "end_time": "2020-01-28T05:13:06.486376Z",
     "start_time": "2020-01-28T05:13:06.439373Z"
    }
   },
   "outputs": [
    {
     "data": {
      "text/plain": [
       "[5, 6, 3]"
      ]
     },
     "execution_count": 444,
     "metadata": {},
     "output_type": "execute_result"
    }
   ],
   "source": [
    "solution(array, commands)"
   ]
  },
  {
   "cell_type": "markdown",
   "metadata": {},
   "source": [
    "### 다른사람풀이\n",
    "* i,j,k를 한번에 한게 장점인듯 "
   ]
  },
  {
   "cell_type": "code",
   "execution_count": 445,
   "metadata": {
    "ExecuteTime": {
     "end_time": "2020-01-28T05:13:07.242419Z",
     "start_time": "2020-01-28T05:13:07.233419Z"
    }
   },
   "outputs": [],
   "source": [
    "def solution(array, commands):\n",
    "    return list(map(lambda x:sorted(array[x[0]-1:x[1]])[x[2]-1], commands))"
   ]
  },
  {
   "cell_type": "code",
   "execution_count": 446,
   "metadata": {
    "ExecuteTime": {
     "end_time": "2020-01-28T05:13:07.568438Z",
     "start_time": "2020-01-28T05:13:07.560438Z"
    }
   },
   "outputs": [
    {
     "data": {
      "text/plain": [
       "[5, 6, 3]"
      ]
     },
     "execution_count": 446,
     "metadata": {},
     "output_type": "execute_result"
    }
   ],
   "source": [
    "solution(array, commands)"
   ]
  },
  {
   "cell_type": "markdown",
   "metadata": {},
   "source": [
    "# 가장큰수\n",
    "* 문제 설명  \n",
    "0 또는 양의 정수가 주어졌을 때, 정수를 이어 붙여 만들 수 있는 가장 큰 수를 알아내 주세요.\n",
    "\n",
    "예를 들어, 주어진 정수가 [6, 10, 2]라면 [6102, 6210, 1062, 1026, 2610, 2106]를 만들 수 있고, 이중 가장 큰 수는 6210입니다.\n",
    "\n",
    "0 또는 양의 정수가 담긴 배열 numbers가 매개변수로 주어질 때, 순서를 재배치하여 만들 수 있는 가장 큰 수를 문자열로 바꾸어 return 하도록 solution 함수를 작성해주세요.\n",
    "\n",
    "* 제한 사항  \n",
    "numbers의 길이는 1 이상 100,000 이하입니다.\n",
    "numbers의 원소는 0 이상 1,000 이하입니다.\n",
    "정답이 너무 클 수 있으니 문자열로 바꾸어 return 합니다.\n",
    "* 입출력 예  \n",
    "\n",
    "|numbers|return|\n",
    "|--|--|\n",
    "|[6, 10, 2]|\t6210|\n",
    "|[3, 30, 34, 5, 9]|\t9534330|"
   ]
  },
  {
   "cell_type": "code",
   "execution_count": 81,
   "metadata": {
    "ExecuteTime": {
     "end_time": "2020-01-28T01:16:57.281944Z",
     "start_time": "2020-01-28T01:16:57.273944Z"
    }
   },
   "outputs": [],
   "source": [
    "numbers = [3, 30, 34, 5, 9]\n",
    "# numbers = [6, 10, 2]"
   ]
  },
  {
   "cell_type": "code",
   "execution_count": 71,
   "metadata": {
    "ExecuteTime": {
     "end_time": "2020-01-28T01:15:22.533525Z",
     "start_time": "2020-01-28T01:15:22.506523Z"
    }
   },
   "outputs": [],
   "source": [
    "# 시간오류남... 모든 연산방법을 확인하고 최대값을 찾아서 그런듯\n",
    "import numpy as np\n",
    "from itertools import permutations\n",
    "def solution(numbers):\n",
    "    str_num = list(map(lambda x : str(x),numbers)) #문자열로 변환\n",
    "    all_com = list(permutations(str_num)) # 모든 조합추출\n",
    "    all_com_num =[]\n",
    "    for com in all_com:\n",
    "        all_com_num.append(''.join(com))\n",
    "    answer = np.sort(all_com_num)[-1] #최대값\n",
    "    return answer"
   ]
  },
  {
   "cell_type": "markdown",
   "metadata": {},
   "source": [
    "### 다른사람 풀이\n",
    "* 전체연산을 안해서 시간감소를 얻음\n",
    "* 문자열 비교를 통해서 진행함\n",
    "```python \n",
    "#아스키코드표를 기준으로 비교하게되며 2자리 숫자의 경우 앞자리의 아스키코드가 높은 것을 우선한다\n",
    "#단, '3'과 '30'을 비교하기위해서 x*3의 방식을 사용해 '333'과 '303030'을 비교하여 '3'의 우선순위를 높였다\n",
    "ord('9'),ord('1')\n",
    "-> 57,49\n",
    "```"
   ]
  },
  {
   "cell_type": "code",
   "execution_count": null,
   "metadata": {},
   "outputs": [],
   "source": [
    "def solution(numbers):\n",
    "    numbers = list(map(str, numbers))\n",
    "    numbers.sort(key=lambda x: x*3, reverse=True)\n",
    "    return str(int(''.join(numbers)))"
   ]
  },
  {
   "cell_type": "code",
   "execution_count": 106,
   "metadata": {
    "ExecuteTime": {
     "end_time": "2020-01-28T01:51:56.643021Z",
     "start_time": "2020-01-28T01:51:56.638020Z"
    }
   },
   "outputs": [],
   "source": [
    "from sklearn.model_selection import RandomizedSearchCV"
   ]
  },
  {
   "cell_type": "markdown",
   "metadata": {},
   "source": [
    "# H-index\n",
    "* 문제 설명  \n",
    "H-Index는 과학자의 생산성과 영향력을 나타내는 지표입니다. 어느 과학자의 H-Index를 나타내는 값인 h를 구하려고 합니다. 위키백과1에 따르면, H-Index는 다음과 같이 구합니다.\n",
    "\n",
    "어떤 과학자가 발표한 논문 n편 중, h번 이상 인용된 논문이 h편 이상이고 나머지 논문이 h번 이하 인용되었다면 h가 이 과학자의 H-Index입니다.\n",
    "\n",
    "어떤 과학자가 발표한 논문의 인용 횟수를 담은 배열 citations가 매개변수로 주어질 때, 이 과학자의 H-Index를 return 하도록 solution 함수를 작성해주세요.\n",
    "\n",
    "* 제한사항  \n",
    "과학자가 발표한 논문의 수는 1편 이상 1,000편 이하입니다.\n",
    "논문별 인용 횟수는 0회 이상 10,000회 이하입니다.\n",
    "* 입출력 예  \n",
    "\n",
    "|citations\t|return|\n",
    "|--|--|\n",
    "|[3, 0, 6, 1, 5]\t|3|"
   ]
  },
  {
   "cell_type": "markdown",
   "metadata": {},
   "source": [
    "## h-index 설명이 부실해서 따로가져옴\n",
    "* H-지수 구하는 방법\n",
    "\n",
    "나의 h는 어떻게 구할 수 있을까? 우측의 표와 같이 자신이 저널에 등재한 전체 논문중 많이 인용된 순으로 정렬한 후, 피인용수가 논문수와 같아지거나 피인용수가 논문수보다 작아지기 시작하는 숫자가 바로 나의 h가 됩니다. 이 표에서는 10이 H-지수가 되는 것입니다. 다시 말하여, 이 연구원은 논문 인용횟수가 10이 넘는 논문이 적어도 10편이 된다는 것을 의미합니다.\n",
    "[h-지수참고](https://www.ibric.org/myboard/read.php?Board=news&id=270333)"
   ]
  },
  {
   "cell_type": "code",
   "execution_count": 307,
   "metadata": {
    "ExecuteTime": {
     "end_time": "2020-01-28T03:28:17.280654Z",
     "start_time": "2020-01-28T03:28:17.271654Z"
    }
   },
   "outputs": [],
   "source": [
    "citations = [3, 0, 6, 1, 5,4]\n",
    "# citations = [4,4,5,6,7,8,9,2,1,1,2,3,1,1,1,23,10,100,100]\n",
    "# citations = [10, 8, 5, 4,3]\n",
    "# citations = [25, 8, 5, 3,3]"
   ]
  },
  {
   "cell_type": "code",
   "execution_count": 297,
   "metadata": {
    "ExecuteTime": {
     "end_time": "2020-01-28T03:19:14.243594Z",
     "start_time": "2020-01-28T03:19:14.238594Z"
    }
   },
   "outputs": [],
   "source": [
    "#??? 왜안되지?\n",
    "def solution(citations):\n",
    "    for i in citations:\n",
    "        count = 0\n",
    "        count = sum(list(map(lambda x: x>=i,citations)))\n",
    "        if count >= i:\n",
    "            answer = i\n",
    "\n",
    "    return answer"
   ]
  },
  {
   "cell_type": "code",
   "execution_count": 298,
   "metadata": {
    "ExecuteTime": {
     "end_time": "2020-01-28T03:19:14.609615Z",
     "start_time": "2020-01-28T03:19:14.602615Z"
    }
   },
   "outputs": [
    {
     "data": {
      "text/plain": [
       "1"
      ]
     },
     "execution_count": 298,
     "metadata": {},
     "output_type": "execute_result"
    }
   ],
   "source": [
    "solution(citations)"
   ]
  },
  {
   "cell_type": "markdown",
   "metadata": {},
   "source": [
    "### 다른사람풀이\n",
    "* 무슨알고리즘인지 이해가 안됨... 솔직히 이거 왜 정답이냐?"
   ]
  },
  {
   "cell_type": "code",
   "execution_count": 311,
   "metadata": {
    "ExecuteTime": {
     "end_time": "2020-01-28T03:29:29.517786Z",
     "start_time": "2020-01-28T03:29:29.497785Z"
    }
   },
   "outputs": [],
   "source": [
    "def solution(citations):\n",
    "    citations = sorted(citations)\n",
    "    l = len(citations)\n",
    "    for i in range(l):\n",
    "        print(i,citations[i], l-i)\n",
    "        if citations[i] >= l-i:\n",
    "            return l-i\n",
    "    return 0"
   ]
  },
  {
   "cell_type": "code",
   "execution_count": 312,
   "metadata": {
    "ExecuteTime": {
     "end_time": "2020-01-28T03:29:36.344176Z",
     "start_time": "2020-01-28T03:29:36.332176Z"
    }
   },
   "outputs": [
    {
     "name": "stdout",
     "output_type": "stream",
     "text": [
      "0 0 6\n",
      "1 1 5\n",
      "2 3 4\n",
      "3 4 3\n"
     ]
    },
    {
     "data": {
      "text/plain": [
       "3"
      ]
     },
     "execution_count": 312,
     "metadata": {},
     "output_type": "execute_result"
    }
   ],
   "source": [
    "solution(citations)"
   ]
  },
  {
   "cell_type": "code",
   "execution_count": 313,
   "metadata": {
    "ExecuteTime": {
     "end_time": "2020-01-28T03:29:59.506501Z",
     "start_time": "2020-01-28T03:29:59.497501Z"
    }
   },
   "outputs": [
    {
     "data": {
      "text/plain": [
       "[0, 1, 3, 4, 5, 6]"
      ]
     },
     "execution_count": 313,
     "metadata": {},
     "output_type": "execute_result"
    }
   ],
   "source": [
    "citations = sorted(citations)\n",
    "citations"
   ]
  },
  {
   "cell_type": "markdown",
   "metadata": {},
   "source": [
    "### 다른사람풀이\n",
    "* h-index를 구하는방식을 적용\n",
    " - [위키h-index](https://en.wikipedia.org/wiki/H-index) \n",
    " - 내림차순 정렬후 maxmin(f(i),i)를 바로 적용한느낌\n",
    "* enumerate로 순서를 구하면서 map으로 min을 적용하여 각 튜플 내에서 min을 산출\n",
    "```python \n",
    "list(map(lambda x: x, enumerate(citations, start=1)))\n",
    "-> [(1, 25), (2, 8), (3, 5), (4, 3), (5, 3)]\n",
    "list(map(min, enumerate(citations, start=1)))\n",
    "-> [1, 2, 3, 3, 3]\n",
    "```"
   ]
  },
  {
   "cell_type": "code",
   "execution_count": 308,
   "metadata": {
    "ExecuteTime": {
     "end_time": "2020-01-28T03:28:20.287826Z",
     "start_time": "2020-01-28T03:28:20.275826Z"
    }
   },
   "outputs": [],
   "source": [
    "def solution(citations):\n",
    "    citations.sort(reverse=True)\n",
    "    answer = max(map(min, enumerate(citations, start=1)))\n",
    "    return answer"
   ]
  },
  {
   "cell_type": "code",
   "execution_count": 310,
   "metadata": {
    "ExecuteTime": {
     "end_time": "2020-01-28T03:28:26.811199Z",
     "start_time": "2020-01-28T03:28:26.802199Z"
    }
   },
   "outputs": [
    {
     "data": {
      "text/plain": [
       "3"
      ]
     },
     "execution_count": 310,
     "metadata": {},
     "output_type": "execute_result"
    }
   ],
   "source": [
    "solution(citations)"
   ]
  },
  {
   "cell_type": "markdown",
   "metadata": {},
   "source": [
    "# N으로 표현\n",
    "* 문제 설명  \n",
    "아래와 같이 5와 사칙연산만으로 12를 표현할 수 있습니다.\n",
    "\n",
    " - 12 = 5 + 5 + (5 / 5) + (5 / 5)\n",
    " - 12 = 55 / 5 + 5 / 5\n",
    " - 12 = (55 + 5) / 5  \n",
    " \n",
    "5를 사용한 횟수는 각각 6,5,4 입니다. 그리고 이중 가장 작은 경우는 4입니다.\n",
    "이처럼 숫자 N과 number가 주어질 때, N과 사칙연산만 사용해서 표현 할 수 있는 방법 중 N 사용횟수의 최솟값을 return 하도록 solution 함수를 작성하세요.\n",
    "\n",
    "* 제한사항  \n",
    "N은 1 이상 9 이하입니다.  \n",
    "number는 1 이상 32,000 이하입니다.  \n",
    "수식에는 괄호와 사칙연산만 가능하며 나누기 연산에서 나머지는 무시합니다.  \n",
    "최솟값이 8보다 크면 -1을 return 합니다.  \n",
    "\n",
    "\n",
    "* 입출력 예   \n",
    "\n",
    "|N\t|number|\treturn|\n",
    "|--|--|--|\n",
    "|5\t|12\t|4|\n",
    "|2\t|11\t|3|\n"
   ]
  },
  {
   "cell_type": "code",
   "execution_count": 343,
   "metadata": {
    "ExecuteTime": {
     "end_time": "2020-01-28T03:53:51.538409Z",
     "start_time": "2020-01-28T03:53:51.528408Z"
    }
   },
   "outputs": [],
   "source": [
    "N = 5\n",
    "N = str(N)\n",
    "number = 12\n",
    "min_num = 0"
   ]
  },
  {
   "cell_type": "code",
   "execution_count": 319,
   "metadata": {
    "ExecuteTime": {
     "end_time": "2020-01-28T03:37:56.578788Z",
     "start_time": "2020-01-28T03:37:56.573788Z"
    }
   },
   "outputs": [],
   "source": [
    "if min_num >=8:\n",
    "    answer = -1"
   ]
  },
  {
   "cell_type": "markdown",
   "metadata": {},
   "source": [
    "# 모의고사\n",
    "* 문제 설명  \n",
    "\n",
    "수포자는 수학을 포기한 사람의 준말입니다. 수포자 삼인방은 모의고사에 수학 문제를 전부 찍으려 합니다.   \n",
    "수포자는 1번 문제부터 마지막 문제까지 다음과 같이 찍습니다.  \n",
    "\n",
    "1번 수포자가 찍는 방식: 1, 2, 3, 4, 5, 1, 2, 3, 4, 5, ...  \n",
    "2번 수포자가 찍는 방식: 2, 1, 2, 3, 2, 4, 2, 5, 2, 1, 2, 3, 2, 4, 2, 5, ...  \n",
    "3번 수포자가 찍는 방식: 3, 3, 1, 1, 2, 2, 4, 4, 5, 5, 3, 3, 1, 1, 2, 2, 4, 4, 5, 5, ...  \n",
    "\n",
    "1번 문제부터 마지막 문제까지의 정답이 순서대로 들은 배열 answers가 주어졌을 때,   \n",
    "가장 많은 문제를 맞힌 사람이 누구인지 배열에 담아 return 하도록 solution 함수를 작성해주세요.  \n",
    "\n",
    "* 제한 조건  \n",
    "\n",
    "시험은 최대 10,000 문제로 구성되어있습니다.  \n",
    "문제의 정답은 1, 2, 3, 4, 5중 하나입니다.  \n",
    "가장 높은 점수를 받은 사람이 여럿일 경우, return하는 값을 오름차순 정렬해주세요.  \n",
    "\n",
    "* 입출력 예  \n",
    "\n",
    "|answers|\treturn|\n",
    "|--|--|\n",
    "|[1,2,3,4,5]|\t[1]|\n",
    "|[1,3,2,4,2]|\t[1,2,3]|\n"
   ]
  },
  {
   "cell_type": "code",
   "execution_count": 448,
   "metadata": {
    "ExecuteTime": {
     "end_time": "2020-01-28T05:22:27.704476Z",
     "start_time": "2020-01-28T05:22:27.696476Z"
    }
   },
   "outputs": [],
   "source": [
    "answers =[1,2,3,4,5]"
   ]
  },
  {
   "cell_type": "code",
   "execution_count": 449,
   "metadata": {
    "ExecuteTime": {
     "end_time": "2020-01-28T05:22:28.019494Z",
     "start_time": "2020-01-28T05:22:27.987492Z"
    }
   },
   "outputs": [],
   "source": [
    "import numpy as np\n",
    "def solution(answers):\n",
    "    one = [1,2,3,4,5]\n",
    "    two = [2,1,2,3,2,4,2,5]\n",
    "    three =[3,3,1,1,2,2,4,4,5,5]\n",
    "    \n",
    "    count =10000\n",
    "    one_an = one*int(count/len(one))\n",
    "    two_an = two*int(count/len(two))+two[:1]\n",
    "    three_an = three*int(count/len(three))+three[:4]\n",
    "    \n",
    "    correct={}\n",
    "    correct[1] = sum(np.array(one_an[:len(answers)]) == np.array(answers))\n",
    "    correct[2] = sum(np.array(two_an[:len(answers)]) == np.array(answers))\n",
    "    correct[3] = sum(np.array(three_an[:len(answers)]) == np.array(answers))\n",
    "    answer =[]\n",
    "    for person, value in correct.items():\n",
    "        if value == max(correct.values()):\n",
    "            answer.append(person)\n",
    "    \n",
    "    return answer"
   ]
  },
  {
   "cell_type": "code",
   "execution_count": 450,
   "metadata": {
    "ExecuteTime": {
     "end_time": "2020-01-28T05:22:28.302510Z",
     "start_time": "2020-01-28T05:22:28.296510Z"
    }
   },
   "outputs": [
    {
     "data": {
      "text/plain": [
       "[1]"
      ]
     },
     "execution_count": 450,
     "metadata": {},
     "output_type": "execute_result"
    }
   ],
   "source": [
    "solution(answers)"
   ]
  },
  {
   "cell_type": "markdown",
   "metadata": {},
   "source": [
    "### 다른사람풀이\n",
    "* answers의 길이만큼 enumerate를 돌려 각 값을 각 패턴마다 비교하여 일치하면 스코어를 증가시킴"
   ]
  },
  {
   "cell_type": "code",
   "execution_count": 452,
   "metadata": {
    "ExecuteTime": {
     "end_time": "2020-01-28T05:22:34.080841Z",
     "start_time": "2020-01-28T05:22:34.024838Z"
    }
   },
   "outputs": [],
   "source": [
    "def solution(answers):\n",
    "    pattern1 = [1,2,3,4,5]\n",
    "    pattern2 = [2,1,2,3,2,4,2,5]\n",
    "    pattern3 = [3,3,1,1,2,2,4,4,5,5]\n",
    "    score = [0, 0, 0]\n",
    "    result = []\n",
    "\n",
    "    for idx, answer in enumerate(answers):\n",
    "        if answer == pattern1[idx%len(pattern1)]:\n",
    "            score[0] += 1\n",
    "        if answer == pattern2[idx%len(pattern2)]:\n",
    "            score[1] += 1\n",
    "        if answer == pattern3[idx%len(pattern3)]:\n",
    "            score[2] += 1\n",
    "\n",
    "    for idx, s in enumerate(score):\n",
    "        if s == max(score):\n",
    "            result.append(idx+1)\n",
    "\n",
    "    return result"
   ]
  },
  {
   "cell_type": "code",
   "execution_count": 453,
   "metadata": {
    "ExecuteTime": {
     "end_time": "2020-01-28T05:22:34.397859Z",
     "start_time": "2020-01-28T05:22:34.390858Z"
    }
   },
   "outputs": [
    {
     "data": {
      "text/plain": [
       "[1]"
      ]
     },
     "execution_count": 453,
     "metadata": {},
     "output_type": "execute_result"
    }
   ],
   "source": [
    "solution(answers)"
   ]
  },
  {
   "cell_type": "markdown",
   "metadata": {},
   "source": [
    "### 다른사람풀이\n",
    "* 위 코드를 좀더 간추려서 작성한거 모든 패턴을 p로 묶어서 이중for문을 작성하고, return값을 바로 한줄 if문으로 받음"
   ]
  },
  {
   "cell_type": "code",
   "execution_count": 454,
   "metadata": {
    "ExecuteTime": {
     "end_time": "2020-01-28T05:22:36.593984Z",
     "start_time": "2020-01-28T05:22:36.567983Z"
    }
   },
   "outputs": [],
   "source": [
    "def solution(answers):\n",
    "    p = [[1, 2, 3, 4, 5],\n",
    "         [2, 1, 2, 3, 2, 4, 2, 5],\n",
    "         [3, 3, 1, 1, 2, 2, 4, 4, 5, 5]]\n",
    "    s = [0] * len(p)\n",
    "\n",
    "    for q, a in enumerate(answers):\n",
    "        for i, v in enumerate(p):\n",
    "            if a == v[q % len(v)]:\n",
    "                s[i] += 1\n",
    "    return [i + 1 for i, v in enumerate(s) if v == max(s)]"
   ]
  },
  {
   "cell_type": "code",
   "execution_count": 455,
   "metadata": {
    "ExecuteTime": {
     "end_time": "2020-01-28T05:22:38.861114Z",
     "start_time": "2020-01-28T05:22:38.851114Z"
    }
   },
   "outputs": [
    {
     "data": {
      "text/plain": [
       "[1]"
      ]
     },
     "execution_count": 455,
     "metadata": {},
     "output_type": "execute_result"
    }
   ],
   "source": [
    "solution(answers)"
   ]
  },
  {
   "cell_type": "markdown",
   "metadata": {},
   "source": [
    "# 소수찾기\n",
    "* 문제 설명  \n",
    "\n",
    "한자리 숫자가 적힌 종이 조각이 흩어져있습니다. 흩어진 종이 조각을 붙여 소수를 몇 개 만들 수 있는지 알아내려 합니다.  \n",
    "각 종이 조각에 적힌 숫자가 적힌 문자열 numbers가 주어졌을 때, 종이 조각으로 만들 수 있는 소수가 몇 개인지 return 하도록 solution 함수를 완성해주세요.\n",
    "\n",
    "* 제한사항  \n",
    "\n",
    "numbers는 길이 1 이상 7 이하인 문자열입니다.  \n",
    "numbers는 0~9까지 숫자만으로 이루어져 있습니다.  \n",
    "013은 0, 1, 3 숫자가 적힌 종이 조각이 흩어져있다는 의미입니다.\n",
    "* 입출력 예    \n",
    "\n",
    "|numbers|\treturn|\n",
    "|--|--|\n",
    "|17|\t3|\n",
    "|011|\t2|\n",
    "\n",
    "* 입출력 예 설명  \n",
    "\n",
    "예제 #1  \n",
    "[1, 7]으로는 소수 [7, 17, 71]를 만들 수 있습니다.  \n",
    "예제 #2  \n",
    "[0, 1, 1]으로는 소수 [11, 101]를 만들 수 있습니다.  \n",
    "11과 011은 같은 숫자로 취급합니다  "
   ]
  },
  {
   "cell_type": "code",
   "execution_count": 549,
   "metadata": {
    "ExecuteTime": {
     "end_time": "2020-01-28T06:04:38.577234Z",
     "start_time": "2020-01-28T06:04:38.571233Z"
    }
   },
   "outputs": [],
   "source": [
    "numbers =17\n",
    "numbers ='011'\n",
    "numbers ='0321597'"
   ]
  },
  {
   "cell_type": "code",
   "execution_count": 550,
   "metadata": {
    "ExecuteTime": {
     "end_time": "2020-01-28T06:04:39.015259Z",
     "start_time": "2020-01-28T06:04:39.006258Z"
    }
   },
   "outputs": [],
   "source": [
    "#소수판별\n",
    "def isPrime(a):\n",
    "    if(a<2):\n",
    "        return False\n",
    "    for i in range(2,a):\n",
    "        if(a%i==0):\n",
    "            return False\n",
    "    return True"
   ]
  },
  {
   "cell_type": "code",
   "execution_count": 594,
   "metadata": {
    "ExecuteTime": {
     "end_time": "2020-01-28T06:14:04.630610Z",
     "start_time": "2020-01-28T06:14:04.592608Z"
    }
   },
   "outputs": [],
   "source": [
    "from itertools import permutations \n",
    "def solution(numbers):\n",
    "#쪼개기\n",
    "    numbers = str(numbers)\n",
    "    splited = []\n",
    "    for num in numbers:\n",
    "        splited.append(num)\n",
    "    #순열생성\n",
    "    all_num=[]\n",
    "    for i in range(1,len(splited)+1):\n",
    "        for combi in list(permutations(splited,i)):\n",
    "            all_num.append(''.join(combi))\n",
    "\n",
    "    #int\n",
    "    all_num =set(map(int,all_num))\n",
    "\n",
    "    prime_count= []\n",
    "    for i in all_num:\n",
    "        if(isPrime(i)):\n",
    "            prime_count.append(i)\n",
    "    answer = len(prime_count)\n",
    "    return answer"
   ]
  },
  {
   "cell_type": "code",
   "execution_count": 595,
   "metadata": {
    "ExecuteTime": {
     "end_time": "2020-01-28T06:14:16.779305Z",
     "start_time": "2020-01-28T06:14:05.001631Z"
    }
   },
   "outputs": [
    {
     "data": {
      "text/plain": [
       "863"
      ]
     },
     "execution_count": 595,
     "metadata": {},
     "output_type": "execute_result"
    }
   ],
   "source": [
    "solution(numbers)"
   ]
  },
  {
   "cell_type": "markdown",
   "metadata": {},
   "source": [
    "### 다른사람 풀이\n",
    "* numbers의 길이를 세도 되는구나 for문 2개를 하나로 해결 \n"
   ]
  },
  {
   "cell_type": "code",
   "execution_count": 596,
   "metadata": {
    "ExecuteTime": {
     "end_time": "2020-01-28T06:14:16.798306Z",
     "start_time": "2020-01-28T06:14:16.789306Z"
    }
   },
   "outputs": [],
   "source": [
    "from itertools import permutations\n",
    "def solution(numbers):\n",
    "    a = set()\n",
    "    for i in range(len(numbers)):\n",
    "        a |= set(map(int, map(\"\".join, permutations(list(numbers), i + 1))))\n",
    "    a -= set(range(0, 2))  # 0,1 제외\n",
    "    for i in range(2, int(max(a) ** 0.5) + 1): #에라토스테네스의 체를 사용해 소수가 아닌걸 제외\n",
    "        a -= set(range(i * 2, max(a) + 1, i))\n",
    "    return len(a)"
   ]
  },
  {
   "cell_type": "code",
   "execution_count": 597,
   "metadata": {
    "ExecuteTime": {
     "end_time": "2020-01-28T06:14:17.918370Z",
     "start_time": "2020-01-28T06:14:16.814307Z"
    }
   },
   "outputs": [
    {
     "data": {
      "text/plain": [
       "863"
      ]
     },
     "execution_count": 597,
     "metadata": {},
     "output_type": "execute_result"
    }
   ],
   "source": [
    "solution(numbers)"
   ]
  },
  {
   "cell_type": "code",
   "execution_count": 613,
   "metadata": {
    "ExecuteTime": {
     "end_time": "2020-01-28T08:54:11.598097Z",
     "start_time": "2020-01-28T08:54:11.588097Z"
    }
   },
   "outputs": [],
   "source": [
    "# 원래 에라토스테네스의 체\n",
    "def primes_up_to_good(n:int) -> [int]: \n",
    "    seive = [False, False] + [True] * (n - 1) \n",
    "    for k in range(2, int(n ** 0.5 + 1.5)): \n",
    "        if seive[k]: \n",
    "            seive[k*2::k] = [False] * ((n - k) // k) \n",
    "        return [x for x in range(n+1) if seive[x]]\n",
    "\n",
    "# 출처: https://53perc.tistory.com/entry/파이썬-소수-판별하기 [53Percent]"
   ]
  },
  {
   "cell_type": "markdown",
   "metadata": {},
   "source": [
    "# 숫자야구\n",
    "\n",
    "* 문제 설명  \n",
    "숫자 야구 게임이란 2명이 서로가 생각한 숫자를 맞추는 게임입니다. 게임해보기\n",
    "\n",
    "각자 서로 다른 1~9까지 3자리 임의의 숫자를 정한 뒤 서로에게 3자리의 숫자를 불러서 결과를 확인합니다. 그리고 그 결과를 토대로 상대가 정한 숫자를 예상한 뒤 맞힙니다.\n",
    "\n",
    "* 숫자는 맞지만, 위치가 틀렸을 때는 볼\n",
    "* 숫자와 위치가 모두 맞을 때는 스트라이크\n",
    "* 숫자와 위치가 모두 틀렸을 때는 아웃\n",
    "예를 들어, 아래의 경우가 있으면\n",
    "\n",
    "A : 123  \n",
    "B : 1스트라이크 1볼.  \n",
    "A : 356  \n",
    "B : 1스트라이크 0볼.  \n",
    "A : 327  \n",
    "B : 2스트라이크 0볼.  \n",
    "A : 489  \n",
    "B : 0스트라이크 1볼.  \n",
    "이때 가능한 답은 324와 328 두 가지입니다.  \n",
    "\n",
    "질문한 세 자리의 수, 스트라이크의 수, 볼의 수를 담은 2차원 배열 baseball이 매개변수로 주어질 때, \n",
    "가능한 답의 개수를 return 하도록 solution 함수를 작성해주세요.\n",
    "\n",
    "* 제한사항  \n",
    "질문의 수는 1 이상 100 이하의 자연수입니다.\n",
    "baseball의 각 행은 [세 자리의 수, 스트라이크의 수, 볼의 수] 를 담고 있습니다.\n",
    "* 입출력 예  \n",
    "\n",
    "|baseball\t|return|\n",
    "|--|--|\n",
    "|[[123, 1, 1], [356, 1, 0], [327, 2, 0], [489, 0, 1]]|\t2|\n"
   ]
  },
  {
   "cell_type": "markdown",
   "metadata": {},
   "source": [
    "### 아이디어\n",
    "모든 가능한 조합을 구하고, 각 질문한개씩마다 가능한 조합을 모두 시도하여 가능한 것만 남김\n",
    "* 예 123 1스트라이크 1볼\n",
    "    1이 스트라이크일때\n",
    "        2가 볼\n",
    "            1X2 중 X에 3이 들어가는 걸 제외 9-3 = 6개\n",
    "        3이 볼\n",
    "            13X 중 X에 2가 들어가는 걸 제외 9-3 = 6개\n",
    "    2가 스트라이크일때\n",
    "    3이 스트라이크일때\n",
    "    총 12X3 36개 조합으로 추려짐\n",
    " "
   ]
  },
  {
   "cell_type": "code",
   "execution_count": 1,
   "metadata": {
    "ExecuteTime": {
     "end_time": "2020-02-05T14:49:09.179253Z",
     "start_time": "2020-02-05T14:49:09.175253Z"
    }
   },
   "outputs": [],
   "source": [
    "baseball = [[123, 1, 1], [356, 1, 0], [327, 2, 0], [489, 0, 1]]\n",
    "answer = 2"
   ]
  },
  {
   "cell_type": "markdown",
   "metadata": {},
   "source": [
    "### 다른사람 풀이"
   ]
  },
  {
   "cell_type": "code",
   "execution_count": null,
   "metadata": {},
   "outputs": [],
   "source": [
    "def st_B(given, chosen):\n",
    "    st = 0\n",
    "    B = 0\n",
    "    chosen_dif = []\n",
    "    given_dif = []\n",
    "    for i in range(3):\n",
    "        if given[i] == chosen[i]:\n",
    "            st += 1\n",
    "        else:\n",
    "            given_dif.append(given[i])\n",
    "            chosen_dif.append(chosen[i])\n",
    "    for num in chosen_dif:\n",
    "        if num in given_dif:\n",
    "            B += 1\n",
    "    return st, B\n",
    "\n",
    "import itertools\n",
    "\n",
    "def solution(baseball):\n",
    "    first = list(itertools.permutations([1,2,3,4,5,6,7,8,9], 3))\n",
    "    second = []\n",
    "    for each in baseball:\n",
    "        given = [int(i) for i in str(each[0])]\n",
    "        stb = (each[1], each[2])\n",
    "        for chosen in first:\n",
    "            if st_B(given, chosen) == stb:\n",
    "                second.append(chosen)\n",
    "        first = second\n",
    "        second = []\n",
    "    return len(first)"
   ]
  },
  {
   "cell_type": "code",
   "execution_count": 2,
   "metadata": {
    "ExecuteTime": {
     "end_time": "2020-02-05T14:49:10.473214Z",
     "start_time": "2020-02-05T14:49:10.461222Z"
    }
   },
   "outputs": [
    {
     "data": {
      "text/plain": [
       "[123, 1, 1]"
      ]
     },
     "execution_count": 2,
     "metadata": {},
     "output_type": "execute_result"
    }
   ],
   "source": [
    "baseball[0]"
   ]
  },
  {
   "cell_type": "code",
   "execution_count": 3,
   "metadata": {
    "ExecuteTime": {
     "end_time": "2020-02-05T14:49:11.486184Z",
     "start_time": "2020-02-05T14:49:11.481184Z"
    }
   },
   "outputs": [],
   "source": [
    "from itertools import permutations"
   ]
  },
  {
   "cell_type": "code",
   "execution_count": 4,
   "metadata": {
    "ExecuteTime": {
     "end_time": "2020-02-05T14:49:12.701161Z",
     "start_time": "2020-02-05T14:49:12.696147Z"
    }
   },
   "outputs": [
    {
     "data": {
      "text/plain": [
       "123"
      ]
     },
     "execution_count": 4,
     "metadata": {},
     "output_type": "execute_result"
    }
   ],
   "source": [
    "baseball[0][0]"
   ]
  },
  {
   "cell_type": "code",
   "execution_count": 5,
   "metadata": {
    "ExecuteTime": {
     "end_time": "2020-02-05T14:49:13.678119Z",
     "start_time": "2020-02-05T14:49:13.673119Z"
    }
   },
   "outputs": [],
   "source": [
    "#전체 가능한 조합 \n",
    "all_num = '123456789'\n",
    "possible = list(set(map(int, map(\"\".join, permutations(list(all_num), 2 + 1)))))\n",
    "len(possible)"
   ]
  },
  {
   "cell_type": "code",
   "execution_count": 40,
   "metadata": {
    "ExecuteTime": {
     "end_time": "2020-02-05T15:20:27.930770Z",
     "start_time": "2020-02-05T15:20:27.927770Z"
    }
   },
   "outputs": [],
   "source": [
    "all_num_ls =list(all_num)"
   ]
  },
  {
   "cell_type": "code",
   "execution_count": 31,
   "metadata": {
    "ExecuteTime": {
     "end_time": "2020-02-05T15:08:25.666764Z",
     "start_time": "2020-02-05T15:08:25.663773Z"
    }
   },
   "outputs": [],
   "source": [
    "#예시 1\n",
    "getted_num = list(str(baseball[0][0]))\n",
    "strike = baseball[1]\n",
    "ball = baseball[2]"
   ]
  },
  {
   "cell_type": "code",
   "execution_count": 35,
   "metadata": {
    "ExecuteTime": {
     "end_time": "2020-02-05T15:19:29.963693Z",
     "start_time": "2020-02-05T15:19:29.960703Z"
    }
   },
   "outputs": [
    {
     "data": {
      "text/plain": [
       "['1', '2', '3']"
      ]
     },
     "execution_count": 35,
     "metadata": {},
     "output_type": "execute_result"
    }
   ],
   "source": [
    "[num for num in getted_num]"
   ]
  },
  {
   "cell_type": "markdown",
   "metadata": {},
   "source": [
    "## 1스트라이크일때"
   ]
  },
  {
   "cell_type": "code",
   "execution_count": 45,
   "metadata": {
    "ExecuteTime": {
     "end_time": "2020-02-05T15:21:33.149230Z",
     "start_time": "2020-02-05T15:21:33.145220Z"
    }
   },
   "outputs": [
    {
     "data": {
      "text/plain": [
       "'12'"
      ]
     },
     "execution_count": 45,
     "metadata": {},
     "output_type": "execute_result"
    }
   ],
   "source": [
    "getted_num[0]"
   ]
  },
  {
   "cell_type": "code",
   "execution_count": 52,
   "metadata": {
    "ExecuteTime": {
     "end_time": "2020-02-05T15:22:51.587470Z",
     "start_time": "2020-02-05T15:22:51.584469Z"
    }
   },
   "outputs": [],
   "source": [
    "for num in getted_num:\n",
    "    all_num_ls.remove(num)"
   ]
  },
  {
   "cell_type": "code",
   "execution_count": 53,
   "metadata": {
    "ExecuteTime": {
     "end_time": "2020-02-05T15:22:52.699517Z",
     "start_time": "2020-02-05T15:22:52.696517Z"
    }
   },
   "outputs": [
    {
     "data": {
      "text/plain": [
       "['4', '5', '6', '7', '8', '9']"
      ]
     },
     "execution_count": 53,
     "metadata": {},
     "output_type": "execute_result"
    }
   ],
   "source": [
    "all_num_ls"
   ]
  },
  {
   "cell_type": "code",
   "execution_count": 62,
   "metadata": {
    "ExecuteTime": {
     "end_time": "2020-02-05T15:24:22.333685Z",
     "start_time": "2020-02-05T15:24:22.328686Z"
    }
   },
   "outputs": [
    {
     "data": {
      "text/plain": [
       "['45',\n",
       " '46',\n",
       " '47',\n",
       " '48',\n",
       " '49',\n",
       " '54',\n",
       " '56',\n",
       " '57',\n",
       " '58',\n",
       " '59',\n",
       " '64',\n",
       " '65',\n",
       " '67',\n",
       " '68',\n",
       " '69',\n",
       " '74',\n",
       " '75',\n",
       " '76',\n",
       " '78',\n",
       " '79',\n",
       " '84',\n",
       " '85',\n",
       " '86',\n",
       " '87',\n",
       " '89',\n",
       " '94',\n",
       " '95',\n",
       " '96',\n",
       " '97',\n",
       " '98']"
      ]
     },
     "execution_count": 62,
     "metadata": {},
     "output_type": "execute_result"
    }
   ],
   "source": [
    "list(map(\"\".join,permutations(list(all_num_ls), 2)))"
   ]
  },
  {
   "cell_type": "code",
   "execution_count": 26,
   "metadata": {
    "ExecuteTime": {
     "end_time": "2020-02-05T14:55:21.813110Z",
     "start_time": "2020-02-05T14:55:21.793111Z"
    }
   },
   "outputs": [
    {
     "ename": "ValueError",
     "evalue": "list.remove(x): x not in list",
     "output_type": "error",
     "traceback": [
      "\u001b[1;31m---------------------------------------------------------------------------\u001b[0m",
      "\u001b[1;31mValueError\u001b[0m                                Traceback (most recent call last)",
      "\u001b[1;32m<ipython-input-26-cc3af403c08b>\u001b[0m in \u001b[0;36m<module>\u001b[1;34m()\u001b[0m\n\u001b[1;32m----> 1\u001b[1;33m \u001b[0mall_num_ls\u001b[0m\u001b[1;33m.\u001b[0m\u001b[0mremove\u001b[0m\u001b[1;33m(\u001b[0m\u001b[0mlist\u001b[0m\u001b[1;33m(\u001b[0m\u001b[0mstr\u001b[0m\u001b[1;33m(\u001b[0m\u001b[0mbaseball\u001b[0m\u001b[1;33m[\u001b[0m\u001b[1;36m0\u001b[0m\u001b[1;33m]\u001b[0m\u001b[1;33m[\u001b[0m\u001b[1;36m0\u001b[0m\u001b[1;33m]\u001b[0m\u001b[1;33m)\u001b[0m\u001b[1;33m)\u001b[0m\u001b[1;33m)\u001b[0m\u001b[1;33m\u001b[0m\u001b[0m\n\u001b[0m",
      "\u001b[1;31mValueError\u001b[0m: list.remove(x): x not in list"
     ]
    }
   ],
   "source": [
    "all_num_ls.remove(list(str(baseball[0][0])))"
   ]
  },
  {
   "cell_type": "code",
   "execution_count": 27,
   "metadata": {
    "ExecuteTime": {
     "end_time": "2020-02-05T14:55:42.709481Z",
     "start_time": "2020-02-05T14:55:42.705481Z"
    }
   },
   "outputs": [],
   "source": [
    "all_num_ls.remove('1')"
   ]
  },
  {
   "cell_type": "code",
   "execution_count": 21,
   "metadata": {
    "ExecuteTime": {
     "end_time": "2020-02-05T14:54:25.949796Z",
     "start_time": "2020-02-05T14:54:25.938796Z"
    }
   },
   "outputs": [
    {
     "ename": "TypeError",
     "evalue": "'list' object is not callable",
     "output_type": "error",
     "traceback": [
      "\u001b[1;31m---------------------------------------------------------------------------\u001b[0m",
      "\u001b[1;31mTypeError\u001b[0m                                 Traceback (most recent call last)",
      "\u001b[1;32m<ipython-input-21-ea32cc692fc5>\u001b[0m in \u001b[0;36m<module>\u001b[1;34m()\u001b[0m\n\u001b[1;32m----> 1\u001b[1;33m \u001b[0mlist\u001b[0m\u001b[1;33m(\u001b[0m\u001b[0mall_num\u001b[0m\u001b[1;33m)\u001b[0m\u001b[1;33m(\u001b[0m\u001b[0mlist\u001b[0m\u001b[1;33m(\u001b[0m\u001b[0mstr\u001b[0m\u001b[1;33m(\u001b[0m\u001b[0mbaseball\u001b[0m\u001b[1;33m[\u001b[0m\u001b[1;36m0\u001b[0m\u001b[1;33m]\u001b[0m\u001b[1;33m[\u001b[0m\u001b[1;36m0\u001b[0m\u001b[1;33m]\u001b[0m\u001b[1;33m)\u001b[0m\u001b[1;33m)\u001b[0m\u001b[1;33m)\u001b[0m\u001b[1;33m\u001b[0m\u001b[0m\n\u001b[0m",
      "\u001b[1;31mTypeError\u001b[0m: 'list' object is not callable"
     ]
    }
   ],
   "source": [
    "list(all_num)(list(str(baseball[0][0])))"
   ]
  },
  {
   "cell_type": "code",
   "execution_count": null,
   "metadata": {},
   "outputs": [],
   "source": []
  }
 ],
 "metadata": {
  "kernelspec": {
   "display_name": "Python 3",
   "language": "python",
   "name": "python3"
  },
  "language_info": {
   "codemirror_mode": {
    "name": "ipython",
    "version": 3
   },
   "file_extension": ".py",
   "mimetype": "text/x-python",
   "name": "python",
   "nbconvert_exporter": "python",
   "pygments_lexer": "ipython3",
   "version": "3.6.5"
  },
  "varInspector": {
   "cols": {
    "lenName": 16,
    "lenType": 16,
    "lenVar": 40
   },
   "kernels_config": {
    "python": {
     "delete_cmd_postfix": "",
     "delete_cmd_prefix": "del ",
     "library": "var_list.py",
     "varRefreshCmd": "print(var_dic_list())"
    },
    "r": {
     "delete_cmd_postfix": ") ",
     "delete_cmd_prefix": "rm(",
     "library": "var_list.r",
     "varRefreshCmd": "cat(var_dic_list()) "
    }
   },
   "types_to_exclude": [
    "module",
    "function",
    "builtin_function_or_method",
    "instance",
    "_Feature"
   ],
   "window_display": false
  }
 },
 "nbformat": 4,
 "nbformat_minor": 2
}
